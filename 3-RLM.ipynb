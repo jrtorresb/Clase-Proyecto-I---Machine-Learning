{
 "cells": [
  {
   "cell_type": "markdown",
   "metadata": {},
   "source": [
    "# Regresión Lineal Mútliple"
   ]
  },
  {
   "cell_type": "markdown",
   "metadata": {},
   "source": [
    "Dependencia de más de una variable.\n",
    "\n",
    "Salario = Educación + Nacionalidad + Experiencia + Idiomas\n",
    "Precio de una casa = Locación + Tamaño + Edad\n",
    "GPA = SAT + Género + Estado Marital\n",
    "<br>\n",
    "Entre más variables, más factores se consideran del problema.\n",
    "<br>\n",
    "La regresión múltiple siempre es mejor que la regresión lineal, con cada variable agregada se incrementa el poder explicativo del modelo."
   ]
  },
  {
   "cell_type": "markdown",
   "metadata": {},
   "source": [
    "## Ecuación de Regresión Múltiple\n",
    "$\\hat{y} = b_0 + b_1 x_1 + b_2x_2 + ... + b_kx_k$\n",
    "<br>\n",
    "donde:\n",
    "<br>\n",
    "$\\hat{y}$: variable dependiente\n",
    "$b_0$: intersección \n",
    "<br>\n",
    "$\\{x_1, x_2, ..., x_n\\}$: variables independientes\n",
    "<br>\n",
    "$\\{b_1, b_2, ..., b_k\\}$: coeficientes correspondientes"
   ]
  },
  {
   "cell_type": "markdown",
   "metadata": {},
   "source": [
    "## $\\bar{R}^2$ Ajustada\n",
    "$R^2$ mide la cantidad de variabilidad total explicada en el modelo.\n",
    "<br>\n",
    "$\\bar{R}^2 < R^2$ \n",
    "<br>\n",
    "La $R^2$ ajustada penaliza el uso excesivo de variables."
   ]
  },
  {
   "cell_type": "markdown",
   "metadata": {},
   "source": [
    "## Ejemplo"
   ]
  },
  {
   "cell_type": "code",
   "execution_count": 37,
   "metadata": {},
   "outputs": [],
   "source": [
    "# Importar bibliotecas\n",
    "import numpy as np\n",
    "import pandas as pd\n",
    "import matplotlib.pyplot as plt\n",
    "import statsmodels.api as sm"
   ]
  },
  {
   "cell_type": "code",
   "execution_count": 38,
   "metadata": {},
   "outputs": [
    {
     "name": "stdout",
     "output_type": "stream",
     "text": [
      "    SAT   GPA  Rand 1,2,3\n",
      "0  1714  2.40           1\n",
      "1  1664  2.52           3\n",
      "2  1760  2.54           3\n",
      "3  1685  2.74           3\n",
      "4  1693  2.83           2\n"
     ]
    }
   ],
   "source": [
    "# Cargar datos\n",
    "# SAT: calificacion de estudiantes de preparatoria: Escritura, Lectura y Matematicas\n",
    "# Se considera uno de los mejores estimadores de capacidad intelectual\n",
    "# GPA: promedio al salir de la universidad\n",
    "#\n",
    "# La columna RAND asigna valores (1,2,3) de manera aleatoria\n",
    "# Sabemos que la variable RAND no esta relacionada con la variable GPA\n",
    "#\n",
    "# GPA = b0 + b1*SAT + b2*RAND\n",
    "data = pd.read_csv('Multiple linear regression.csv')\n",
    "print(data.head(n=5))"
   ]
  },
  {
   "cell_type": "code",
   "execution_count": 39,
   "metadata": {},
   "outputs": [
    {
     "data": {
      "text/html": [
       "<div>\n",
       "<style scoped>\n",
       "    .dataframe tbody tr th:only-of-type {\n",
       "        vertical-align: middle;\n",
       "    }\n",
       "\n",
       "    .dataframe tbody tr th {\n",
       "        vertical-align: top;\n",
       "    }\n",
       "\n",
       "    .dataframe thead th {\n",
       "        text-align: right;\n",
       "    }\n",
       "</style>\n",
       "<table border=\"1\" class=\"dataframe\">\n",
       "  <thead>\n",
       "    <tr style=\"text-align: right;\">\n",
       "      <th></th>\n",
       "      <th>SAT</th>\n",
       "      <th>GPA</th>\n",
       "      <th>Rand 1,2,3</th>\n",
       "    </tr>\n",
       "  </thead>\n",
       "  <tbody>\n",
       "    <tr>\n",
       "      <th>count</th>\n",
       "      <td>84.000000</td>\n",
       "      <td>84.000000</td>\n",
       "      <td>84.000000</td>\n",
       "    </tr>\n",
       "    <tr>\n",
       "      <th>mean</th>\n",
       "      <td>1845.273810</td>\n",
       "      <td>3.330238</td>\n",
       "      <td>2.059524</td>\n",
       "    </tr>\n",
       "    <tr>\n",
       "      <th>std</th>\n",
       "      <td>104.530661</td>\n",
       "      <td>0.271617</td>\n",
       "      <td>0.855192</td>\n",
       "    </tr>\n",
       "    <tr>\n",
       "      <th>min</th>\n",
       "      <td>1634.000000</td>\n",
       "      <td>2.400000</td>\n",
       "      <td>1.000000</td>\n",
       "    </tr>\n",
       "    <tr>\n",
       "      <th>25%</th>\n",
       "      <td>1772.000000</td>\n",
       "      <td>3.190000</td>\n",
       "      <td>1.000000</td>\n",
       "    </tr>\n",
       "    <tr>\n",
       "      <th>50%</th>\n",
       "      <td>1846.000000</td>\n",
       "      <td>3.380000</td>\n",
       "      <td>2.000000</td>\n",
       "    </tr>\n",
       "    <tr>\n",
       "      <th>75%</th>\n",
       "      <td>1934.000000</td>\n",
       "      <td>3.502500</td>\n",
       "      <td>3.000000</td>\n",
       "    </tr>\n",
       "    <tr>\n",
       "      <th>max</th>\n",
       "      <td>2050.000000</td>\n",
       "      <td>3.810000</td>\n",
       "      <td>3.000000</td>\n",
       "    </tr>\n",
       "  </tbody>\n",
       "</table>\n",
       "</div>"
      ],
      "text/plain": [
       "               SAT        GPA  Rand 1,2,3\n",
       "count    84.000000  84.000000   84.000000\n",
       "mean   1845.273810   3.330238    2.059524\n",
       "std     104.530661   0.271617    0.855192\n",
       "min    1634.000000   2.400000    1.000000\n",
       "25%    1772.000000   3.190000    1.000000\n",
       "50%    1846.000000   3.380000    2.000000\n",
       "75%    1934.000000   3.502500    3.000000\n",
       "max    2050.000000   3.810000    3.000000"
      ]
     },
     "execution_count": 39,
     "metadata": {},
     "output_type": "execute_result"
    }
   ],
   "source": [
    "data.describe()"
   ]
  },
  {
   "cell_type": "code",
   "execution_count": null,
   "metadata": {},
   "outputs": [],
   "source": []
  },
  {
   "cell_type": "code",
   "execution_count": 40,
   "metadata": {},
   "outputs": [
    {
     "name": "stdout",
     "output_type": "stream",
     "text": [
      "                            OLS Regression Results                            \n",
      "==============================================================================\n",
      "Dep. Variable:                    GPA   R-squared:                       0.407\n",
      "Model:                            OLS   Adj. R-squared:                  0.392\n",
      "Method:                 Least Squares   F-statistic:                     27.76\n",
      "Date:                Tue, 16 Mar 2021   Prob (F-statistic):           6.58e-10\n",
      "Time:                        20:15:36   Log-Likelihood:                 12.720\n",
      "No. Observations:                  84   AIC:                            -19.44\n",
      "Df Residuals:                      81   BIC:                            -12.15\n",
      "Df Model:                           2                                         \n",
      "Covariance Type:            nonrobust                                         \n",
      "==============================================================================\n",
      "                 coef    std err          t      P>|t|      [0.025      0.975]\n",
      "------------------------------------------------------------------------------\n",
      "const          0.2960      0.417      0.710      0.480      -0.533       1.125\n",
      "SAT            0.0017      0.000      7.432      0.000       0.001       0.002\n",
      "Rand 1,2,3    -0.0083      0.027     -0.304      0.762      -0.062       0.046\n",
      "==============================================================================\n",
      "Omnibus:                       12.992   Durbin-Watson:                   0.948\n",
      "Prob(Omnibus):                  0.002   Jarque-Bera (JB):               16.364\n",
      "Skew:                          -0.731   Prob(JB):                     0.000280\n",
      "Kurtosis:                       4.594   Cond. No.                     3.33e+04\n",
      "==============================================================================\n",
      "\n",
      "Warnings:\n",
      "[1] Standard Errors assume that the covariance matrix of the errors is correctly specified.\n",
      "[2] The condition number is large, 3.33e+04. This might indicate that there are\n",
      "strong multicollinearity or other numerical problems.\n"
     ]
    }
   ],
   "source": [
    "y = data[\"GPA\"]\n",
    "x1 = data[[\"SAT\",\"Rand 1,2,3\"]]\n",
    "\n",
    "x = sm.add_constant(x1)\n",
    "results = sm.OLS(y,x).fit()\n",
    "print(results.summary())"
   ]
  },
  {
   "cell_type": "markdown",
   "metadata": {},
   "source": [
    "$R^2$ creció ligeramente, mientras que Adj. R-squared decreció.\n",
    "<br>\n",
    "Se penalizó agregar una variable adicional que no tiene un fuerte poder explicativo en el modelo.\n",
    "<br>\n",
    "<br>\n",
    "Además, el p-value de la variable Rand es 0.762 >> 0.05, lo cual no permite rechazar la hipótesis nula.\n",
    "<br>\n",
    "Entonces, la variable Rand es insignificante y baja el desempeño del poder explicativo del modelo así que debe ser eliminada.\n",
    "<br>\n",
    "Podemos agregar 100 variables al modelo y aun asi la regresión será mala. Es mejor usar la menor cantidad de variables. La simplicidad es mejor que un alto poder explicativo en el modelo."
   ]
  },
  {
   "cell_type": "markdown",
   "metadata": {},
   "source": [
    "$\\bar{R}^2$ sirve para comparar modelos.\n",
    "<br>\n",
    "Es necesario:\n",
    "    <ul>\n",
    "    <li> Mismo dataset </li>\n",
    "    <li> Misma variable dependiente </li>\n",
    "    </ul>"
   ]
  },
  {
   "cell_type": "markdown",
   "metadata": {},
   "source": [
    "# F-statistic\n",
    "F-statistic sigue la F-distribution.\n",
    "<br>\n",
    "Se utiliza para mostrar la importancia general del modelo. \n",
    "<br>\n",
    "F-test:\n",
    "<ul>\n",
    "    <li> Ho: b1=b2=...=bk=0 </li>\n",
    "    <li> H1: al menos una $bi \\neq 0$ </li>\n",
    "    </ul>\n",
    "        "
   ]
  },
  {
   "cell_type": "markdown",
   "metadata": {},
   "source": [
    "En el ejemplo, la F-statistic es 56.05 y su p-value es casi 0.\n",
    "<br>\n",
    "Entonces, el modelo en general si es significativo.\n",
    "<br>\n",
    "Entre más pequeña sea F-statistic, es menos significativo el modelo."
   ]
  },
  {
   "cell_type": "markdown",
   "metadata": {},
   "source": [
    "## Supuestos de la Regresión Lineal\n",
    "<ul>\n",
    "    <li> Linearidad </li>\n",
    "    <li> No endogeneidad: covarianza del error es 0 </li>\n",
    "    <li> Normalidad y homoscedaticidad: el error tiene una distribución normal y varianza constante. </li>\n",
    "    <li> No autocorrelación: la covarianza entre los errores es 0. </li>\n",
    "    <li> No multicolinearidad: alta colinearidad entre variables </li>\n",
    "    </ul>"
   ]
  },
  {
   "cell_type": "markdown",
   "metadata": {},
   "source": [
    "### Linearidad\n",
    "Debe existir una relación lineal entre las variables dependiente e independiente.\n",
    "Hay varias formas de solucionarlo:\n",
    "<ul>\n",
    "    <li> Transformación Exponencial </li>\n",
    "    <li> Transformación logaritmica </li>\n",
    "    </ul>"
   ]
  },
  {
   "cell_type": "markdown",
   "metadata": {},
   "source": [
    "### No endogeneidad de los regresores\n",
    "No existe una correlación entre las variables independientes y los errores.\n",
    "<br>\n",
    "Este problema se llama Sesgo de variables omitidas.\n",
    "<br>\n",
    "Ocurre cuando no se incluye una variable relevante. Cada variable independiente explica el cómo esta relacionada con la variable dependiente. También la variable dependiente se explica por la variable omitida.\n",
    "<br>\n",
    "Toda variable omitida se convierte en error, entonces las variables independientes y la omitida estan correlacionadas.\n",
    "La Endogeneidad ocurre cuando hay una correlación entre la variable X y el término de error en el modelo.\n",
    "<br>\n",
    "El término de error en el modelo se debe a todas las cosas en la variable dependiente que no se deben a las variables que tiene en su modelo.\n",
    "Entonces, en el sentido más amplio, surge un problema de endogeneidad cuando hay algo que\n",
    "relacionada con su variable Y que también está relacionada con su variable X, y no tiene eso\n",
    "algo en tu modelo. \n",
    "La endogeneidad puede ser causada por variables omitidas.\n",
    "<br>\n",
    "Por ejemplo, queremos explicar el salario y usamos años de escolaridad como una covariable. \n",
    "Los años de escolaridad se correlacionan con la variable no observada de ética laboral."
   ]
  },
  {
   "attachments": {
    "Screen%20Shot%202021-03-15%20at%2022.58.31.png": {
     "image/png": "[encoded data removed]"
    }
   },
   "cell_type": "markdown",
   "metadata": {},
   "source": [
    "### Normalidad y homoscedasticidad\n",
    "Normalidad: suponemos que el error tiene una distribución normal\n",
    "<br>\n",
    "La media debe ser cero: la constante de intersección debe ser diferente de 0.\n",
    "<br>\n",
    "Homoscedasticidad: significa que los errores deben tener igual varianza. \n",
    "Ejemplo de heteroscedasticidad\n",
    "![Screen%20Shot%202021-03-15%20at%2022.58.31.png](attachment:Screen%20Shot%202021-03-15%20at%2022.58.31.png)"
   ]
  },
  {
   "cell_type": "markdown",
   "metadata": {},
   "source": [
    "Por ejemplo, una persona pobre tiene una baja variabilidad en su gasto en comida; siempre come huevos y papas. Mientras que una persona adierada tiene una alta variabilidad en su gasto de comida; un dia va a un restaurante caro y otros come barato en casa.\n",
    "<br>\n",
    "Formas de ajustar: Usar escala logaritmica, eliminar valores atipicos."
   ]
  },
  {
   "cell_type": "markdown",
   "metadata": {},
   "source": [
    "### No Autocorrelation\n",
    "No correlación seriada. Los errores no estan correlacionados.\n",
    "<br>\n",
    "Es común en series de tiempo. Por ejemplo el Efecto Day-Of-the-week en finanzas.\n",
    "<br>\n",
    "Una forma de detectar correlación es encontrando patrones en la grafica de residuos.\n",
    "<br>\n",
    "Otra forma es revisar la prueba de Durbin-Watson dentro de la tabla de resultados. Valores <1 y >3 indican autocorrelación.\n",
    "<br> \n",
    "No hay remedio para la autocorrelación."
   ]
  },
  {
   "cell_type": "markdown",
   "metadata": {},
   "source": [
    "### No Multicolinearidad\n",
    "Dos o mas variables tienen una alta correlación.\n",
    "<br>\n",
    "Si puedes representar una variable usando otra, entonces utiliza solo una para el modelo.\n",
    "<br> Se puede detectar revisando los p-value en la tabla de resultados."
   ]
  }
 ],
 "metadata": {
  "kernelspec": {
   "display_name": "Python 3",
   "language": "python",
   "name": "python3"
  },
  "language_info": {
   "codemirror_mode": {
    "name": "ipython",
    "version": 3
   },
   "file_extension": ".py",
   "mimetype": "text/x-python",
   "name": "python",
   "nbconvert_exporter": "python",
   "pygments_lexer": "ipython3",
   "version": "3.5.2"
  }
 },
 "nbformat": 4,
 "nbformat_minor": 2
}
